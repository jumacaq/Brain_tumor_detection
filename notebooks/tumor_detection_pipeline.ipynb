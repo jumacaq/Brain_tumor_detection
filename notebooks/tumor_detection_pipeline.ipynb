{
  "nbformat": 4,
  "nbformat_minor": 0,
  "metadata": {
    "colab": {
      "provenance": [],
      "gpuType": "T4",
      "toc_visible": true,
      "authorship_tag": "ABX9TyPDqV3kIKWupBoAQNKHZG3o",
      "include_colab_link": true
    },
    "kernelspec": {
      "name": "python3",
      "display_name": "Python 3"
    },
    "language_info": {
      "name": "python"
    },
    "accelerator": "GPU"
  },
  "cells": [
    {
      "cell_type": "markdown",
      "metadata": {
        "id": "view-in-github",
        "colab_type": "text"
      },
      "source": [
        "<a href=\"https://colab.research.google.com/github/jumacaq/Brain_tumor_detection/blob/main/tumor_detection_pipeline.ipynb\" target=\"_parent\"><img src=\"https://colab.research.google.com/assets/colab-badge.svg\" alt=\"Open In Colab\"/></a>"
      ]
    },
    {
      "cell_type": "markdown",
      "source": [
        "# Bloque 1: Configuración Inicial y Carga de Datos 📂\n",
        "\n",
        "Comenzamos importando las herramientas necesarias. Aunque se utilizan varias librerías para el análisis, visualización y métricas, **TensorFlow** (junto con su API Keras) es el pilar para la construcción y entrenamiento de nuestro modelo de Deep Learning. También se emplean librerías como Pandas para la manipulación de datos y OS para interactuar con el sistema de archivos.\n"
      ],
      "metadata": {
        "id": "y3DwFEzE0JlU"
      }
    },
    {
      "cell_type": "markdown",
      "source": [
        "##1.1 Importación de Librerías Esenciales"
      ],
      "metadata": {
        "id": "11WYbQWs_z5w"
      }
    },
    {
      "cell_type": "code",
      "source": [
        "!python --version"
      ],
      "metadata": {
        "colab": {
          "base_uri": "https://localhost:8080/"
        },
        "id": "Gsjn0Zs0FKnB",
        "outputId": "fb02b2ed-25ff-43e0-ca21-d95916e37dbb"
      },
      "execution_count": null,
      "outputs": [
        {
          "output_type": "stream",
          "name": "stdout",
          "text": [
            "Python 3.11.13\n"
          ]
        }
      ]
    },
    {
      "cell_type": "code",
      "execution_count": null,
      "metadata": {
        "id": "t6Xhxs5mzmoO"
      },
      "outputs": [],
      "source": [
        "import numpy as np\n",
        "import pandas as pd\n",
        "import os\n",
        "import matplotlib.pyplot as plt\n",
        "import seaborn as sns\n",
        "import cv2\n",
        "\n",
        "# Librerías de Scikit-learn para preprocesamiento y métricas\n",
        "from sklearn.model_selection import train_test_split\n",
        "from sklearn.preprocessing import LabelEncoder\n",
        "from sklearn.metrics import confusion_matrix, classification_report, roc_curve, auc\n",
        "\n",
        "# Imbalanced-learn para manejar desbalance de clases\n",
        "#from imblearn.over_sampling import RandomOverSampler"
      ]
    },
    {
      "cell_type": "code",
      "source": [
        "# Componentes de TensorFlow y Keras\n",
        "import tensorflow as tf\n",
        "tf.get_logger().setLevel('ERROR')# Suprime mensajes informativos de TensorFlow, mostrando solo errores\n",
        "tf.autograph.set_verbosity(0)\n",
        "from tensorflow import keras\n",
        "from keras import layers, Model, callbacks\n",
        "from keras.api.optimizers import Adam\n",
        "from tensorflow.keras.preprocessing.image import ImageDataGenerator\n",
        "from keras.api.applications import ResNet50 # El modelo base que usaremos\n",
        "from keras.api.applications.resnet import preprocess_input # Función de preprocesamiento específica para ResNet\n",
        "from keras.api.metrics import AUC # Métrica de Área Bajo la Curva ROC\n",
        "\n",
        "# Configuración para la visualización y logs de TensorFlow\n",
        "sns.set_style(\"whitegrid\") # Estilo para los gráficos de Seaborn\n"
      ],
      "metadata": {
        "id": "1JKDeytj1GSY"
      },
      "execution_count": null,
      "outputs": []
    },
    {
      "cell_type": "code",
      "source": [
        "tf.__version__"
      ],
      "metadata": {
        "colab": {
          "base_uri": "https://localhost:8080/",
          "height": 35
        },
        "id": "TWtEFNO0UGVP",
        "outputId": "4f776781-b2c0-4ac6-91f5-8528c06a4282"
      },
      "execution_count": null,
      "outputs": [
        {
          "output_type": "execute_result",
          "data": {
            "text/plain": [
              "'2.18.0'"
            ],
            "application/vnd.google.colaboratory.intrinsic+json": {
              "type": "string"
            }
          },
          "metadata": {},
          "execution_count": 4
        }
      ]
    },
    {
      "cell_type": "code",
      "source": [
        "from google.colab import drive\n",
        "drive.mount('/content/drive')\n"
      ],
      "metadata": {
        "id": "ovxXUVr7KRtf",
        "colab": {
          "base_uri": "https://localhost:8080/"
        },
        "outputId": "72d29432-70c3-405f-8015-b53187f0a0af"
      },
      "execution_count": null,
      "outputs": [
        {
          "output_type": "stream",
          "name": "stdout",
          "text": [
            "Mounted at /content/drive\n"
          ]
        }
      ]
    },
    {
      "cell_type": "markdown",
      "source": [
        "## 1.2 Definición de Rutas y Carga de Datos\n",
        "Las imágenes se encuentran almacenadas en un directorio local, estructurado con subcarpetas que representan cada una de las clases (categorías) de nuestro problema de clasificación.\n",
        "- **base_path:** Es el directorio raíz que contiene las subcarpetas de las categorías.\n",
        "- **categories:** Una lista con los nombres de las subcarpetas, que corresponden a nuestras etiquetas de clase (ej. \"Healthy\", \"Tumor\")."
      ],
      "metadata": {
        "id": "j20WvNzW1-3r"
      }
    },
    {
      "cell_type": "code",
      "source": [
        "base_path = \"/content/drive/MyDrive/Brain_tumor_detection/image\"  # Directorio raíz donde se encuentran las carpetas de categorías\n",
        "categories = [\"Healthy\", \"Tumor\"] # Nombres de las subcarpetas y nuestras clases\n",
        "\n",
        "image_paths = []  # Lista para almacenar las rutas a cada imagen\n",
        "labels = []       # Lista para almacenar la etiqueta de cada imagen\n",
        "\n",
        "# Iterar sobre cada categoría definida\n",
        "for category in categories:\n",
        "    category_path = os.path.join(base_path, category) # Construir la ruta a la carpeta de la categoría\n",
        "    if os.path.isdir(category_path):\n",
        "        # Iterar sobre cada archivo de imagen dentro de la carpeta de la categoría\n",
        "        for image_name in os.listdir(category_path):\n",
        "            image_path = os.path.join(category_path, image_name) # Ruta completa a la imagen\n",
        "            image_paths.append(image_path) # Añadir la ruta de la imagen a la lista\n",
        "            labels.append(category)        # Añadir la etiqueta (nombre de la categoría) a la lista\n",
        "    else:\n",
        "        print(f\"Advertencia: El directorio para la categoría '{category}' no fue encontrado en '{category_path}'\")\n"
      ],
      "metadata": {
        "id": "VQj3kIQsC9pr"
      },
      "execution_count": null,
      "outputs": []
    },
    {
      "cell_type": "code",
      "source": [
        "# Crear un DataFrame de Pandas para almacenar las rutas de las imágenes y sus etiquetas\n",
        "df = pd.DataFrame({\"image_path\": image_paths, \"label\": labels})\n",
        "# Mostrar las primeras filas del DataFrame y la distribución de clases\n",
        "print(\"DataFrame inicial con rutas de imágenes y etiquetas:\")\n",
        "print(df.head())\n",
        "print(\"\\nDistribución de clases inicial:\")\n",
        "print(df['label'].value_counts())"
      ],
      "metadata": {
        "colab": {
          "base_uri": "https://localhost:8080/"
        },
        "id": "FI6CONzl3XyB",
        "outputId": "5984965b-ca6a-48fc-c314-529cd9ded357"
      },
      "execution_count": null,
      "outputs": [
        {
          "output_type": "stream",
          "name": "stdout",
          "text": [
            "DataFrame inicial con rutas de imágenes y etiquetas:\n",
            "                                          image_path    label\n",
            "0  /content/drive/MyDrive/Brain_tumor_detection/i...  Healthy\n",
            "1  /content/drive/MyDrive/Brain_tumor_detection/i...  Healthy\n",
            "2  /content/drive/MyDrive/Brain_tumor_detection/i...  Healthy\n",
            "3  /content/drive/MyDrive/Brain_tumor_detection/i...  Healthy\n",
            "4  /content/drive/MyDrive/Brain_tumor_detection/i...  Healthy\n",
            "\n",
            "Distribución de clases inicial:\n",
            "label\n",
            "Tumor      3000\n",
            "Healthy    2000\n",
            "Name: count, dtype: int64\n"
          ]
        }
      ]
    },
    {
      "cell_type": "markdown",
      "source": [
        "# Bloque 2 : Preprocesamiento_de_Datos"
      ],
      "metadata": {
        "id": "qksqe6vCAL_3"
      }
    },
    {
      "cell_type": "markdown",
      "source": [
        "## 2.1 Codificación de Etiquetas"
      ],
      "metadata": {
        "id": "iP8xZBvL_QG_"
      }
    },
    {
      "cell_type": "code",
      "source": [
        "# %% Preprocesamiento\n",
        "# Codificación de etiquetas\n",
        "label_encoder = LabelEncoder()\n",
        "# Se crea una nueva columna 'category_encoded' con las etiquetas numéricas (ej. 0 para Healthy, 1 para Tumor)\n",
        "df['category_encoded'] = label_encoder.fit_transform(df['label'])\n",
        "\n",
        "print(\"DataFrame después de la codificación de etiquetas:\")\n",
        "print(df.head())\n",
        "print(f\"Clases codificadas: {label_encoder.classes_} -> {label_encoder.transform(label_encoder.classes_)}\")"
      ],
      "metadata": {
        "colab": {
          "base_uri": "https://localhost:8080/"
        },
        "id": "78ltiwoM50gT",
        "outputId": "bb6cfad9-3cd6-45d2-ed30-6a7019ed5162"
      },
      "execution_count": null,
      "outputs": [
        {
          "output_type": "stream",
          "name": "stdout",
          "text": [
            "DataFrame después de la codificación de etiquetas:\n",
            "                                          image_path    label  \\\n",
            "0  /content/drive/MyDrive/Brain_tumor_detection/i...  Healthy   \n",
            "1  /content/drive/MyDrive/Brain_tumor_detection/i...  Healthy   \n",
            "2  /content/drive/MyDrive/Brain_tumor_detection/i...  Healthy   \n",
            "3  /content/drive/MyDrive/Brain_tumor_detection/i...  Healthy   \n",
            "4  /content/drive/MyDrive/Brain_tumor_detection/i...  Healthy   \n",
            "\n",
            "   category_encoded  \n",
            "0                 0  \n",
            "1                 0  \n",
            "2                 0  \n",
            "3                 0  \n",
            "4                 0  \n",
            "Clases codificadas: ['Healthy' 'Tumor'] -> [0 1]\n"
          ]
        }
      ]
    },
    {
      "cell_type": "markdown",
      "source": [
        "## 2.2 División de Datos"
      ],
      "metadata": {
        "id": "Nl4xhmIaA8JR"
      }
    },
    {
      "cell_type": "code",
      "source": [
        "# Primero, dividir en entrenamiento (80%) y un conjunto temporal (20% para validación + prueba)\n",
        "X_train_original, X_temp, y_train_original, y_temp = train_test_split(\n",
        "    df[['image_path']],  # Características (rutas de imagen como DataFrame)\n",
        "    df['category_encoded'], # Etiquetas numéricas\n",
        "    train_size=0.8,         # 80% para entrenamiento\n",
        "    shuffle=True,           # Mezclar los datos antes de dividir\n",
        "    random_state=42,        # Para reproducibilidad\n",
        "    stratify=df['category_encoded'] # Asegurar proporciones de clase similares en la división\n",
        ")\n",
        "\n",
        "# Luego, dividir el conjunto temporal en validación (50% de temp -> 10% del total)\n",
        "X_valid, X_test, y_valid, y_test = train_test_split(\n",
        "    X_temp,                 # DataFrame con rutas de imagen del conjunto temporal\n",
        "    y_temp,                 # Etiquetas del conjunto temporal\n",
        "    test_size=0.5,          # 50% de X_temp para el conjunto de prueba (el resto para validación)\n",
        "    shuffle=True,\n",
        "    random_state=42,\n",
        "    stratify=y_temp         # Estratificar sobre las etiquetas del conjunto temporal\n",
        ")"
      ],
      "metadata": {
        "id": "zVL8ZD6E_DE1"
      },
      "execution_count": null,
      "outputs": []
    },
    {
      "cell_type": "markdown",
      "source": [
        "## 2.3 Creación de DataFrames para los Generadores"
      ],
      "metadata": {
        "id": "KHldB6KJBbd2"
      }
    },
    {
      "cell_type": "code",
      "source": [
        "# train_df utilizará los datos de entrenamiento sobremuestreados.\n",
        "train_df = pd.DataFrame(X_train_original, columns=['image_path'])\n",
        "train_df['category_encoded'] = y_train_original.astype(str)\n",
        "\n",
        "# valid_df y test_df utilizan los datos originales de validación y prueba, sin sobremuestreo.\n",
        "valid_df = pd.DataFrame(X_valid, columns=['image_path'])\n",
        "valid_df['category_encoded'] = y_valid.astype(str)\n",
        "\n",
        "test_df = pd.DataFrame(X_test, columns=['image_path'])\n",
        "test_df['category_encoded'] = y_test.astype(str)"
      ],
      "metadata": {
        "id": "pIMjdkI5Btlk"
      },
      "execution_count": null,
      "outputs": []
    },
    {
      "cell_type": "markdown",
      "source": [
        "## 2.4 Configuración de Generadores de Datos para ResNet"
      ],
      "metadata": {
        "id": "3jbXHYgYEcJK"
      }
    },
    {
      "cell_type": "code",
      "source": [
        "train_df.head()"
      ],
      "metadata": {
        "colab": {
          "base_uri": "https://localhost:8080/",
          "height": 206
        },
        "id": "vpbhOObPE5R_",
        "outputId": "6ca48395-686c-4ec5-99c5-ed50f97d3c1d"
      },
      "execution_count": null,
      "outputs": [
        {
          "output_type": "execute_result",
          "data": {
            "text/plain": [
              "                                             image_path category_encoded\n",
              "4882  /content/drive/MyDrive/Brain_tumor_detection/i...                1\n",
              "684   /content/drive/MyDrive/Brain_tumor_detection/i...                0\n",
              "3228  /content/drive/MyDrive/Brain_tumor_detection/i...                1\n",
              "2505  /content/drive/MyDrive/Brain_tumor_detection/i...                1\n",
              "1480  /content/drive/MyDrive/Brain_tumor_detection/i...                0"
            ],
            "text/html": [
              "\n",
              "  <div id=\"df-6b722be3-457c-4e9f-95de-14792241554d\" class=\"colab-df-container\">\n",
              "    <div>\n",
              "<style scoped>\n",
              "    .dataframe tbody tr th:only-of-type {\n",
              "        vertical-align: middle;\n",
              "    }\n",
              "\n",
              "    .dataframe tbody tr th {\n",
              "        vertical-align: top;\n",
              "    }\n",
              "\n",
              "    .dataframe thead th {\n",
              "        text-align: right;\n",
              "    }\n",
              "</style>\n",
              "<table border=\"1\" class=\"dataframe\">\n",
              "  <thead>\n",
              "    <tr style=\"text-align: right;\">\n",
              "      <th></th>\n",
              "      <th>image_path</th>\n",
              "      <th>category_encoded</th>\n",
              "    </tr>\n",
              "  </thead>\n",
              "  <tbody>\n",
              "    <tr>\n",
              "      <th>4882</th>\n",
              "      <td>/content/drive/MyDrive/Brain_tumor_detection/i...</td>\n",
              "      <td>1</td>\n",
              "    </tr>\n",
              "    <tr>\n",
              "      <th>684</th>\n",
              "      <td>/content/drive/MyDrive/Brain_tumor_detection/i...</td>\n",
              "      <td>0</td>\n",
              "    </tr>\n",
              "    <tr>\n",
              "      <th>3228</th>\n",
              "      <td>/content/drive/MyDrive/Brain_tumor_detection/i...</td>\n",
              "      <td>1</td>\n",
              "    </tr>\n",
              "    <tr>\n",
              "      <th>2505</th>\n",
              "      <td>/content/drive/MyDrive/Brain_tumor_detection/i...</td>\n",
              "      <td>1</td>\n",
              "    </tr>\n",
              "    <tr>\n",
              "      <th>1480</th>\n",
              "      <td>/content/drive/MyDrive/Brain_tumor_detection/i...</td>\n",
              "      <td>0</td>\n",
              "    </tr>\n",
              "  </tbody>\n",
              "</table>\n",
              "</div>\n",
              "    <div class=\"colab-df-buttons\">\n",
              "\n",
              "  <div class=\"colab-df-container\">\n",
              "    <button class=\"colab-df-convert\" onclick=\"convertToInteractive('df-6b722be3-457c-4e9f-95de-14792241554d')\"\n",
              "            title=\"Convert this dataframe to an interactive table.\"\n",
              "            style=\"display:none;\">\n",
              "\n",
              "  <svg xmlns=\"http://www.w3.org/2000/svg\" height=\"24px\" viewBox=\"0 -960 960 960\">\n",
              "    <path d=\"M120-120v-720h720v720H120Zm60-500h600v-160H180v160Zm220 220h160v-160H400v160Zm0 220h160v-160H400v160ZM180-400h160v-160H180v160Zm440 0h160v-160H620v160ZM180-180h160v-160H180v160Zm440 0h160v-160H620v160Z\"/>\n",
              "  </svg>\n",
              "    </button>\n",
              "\n",
              "  <style>\n",
              "    .colab-df-container {\n",
              "      display:flex;\n",
              "      gap: 12px;\n",
              "    }\n",
              "\n",
              "    .colab-df-convert {\n",
              "      background-color: #E8F0FE;\n",
              "      border: none;\n",
              "      border-radius: 50%;\n",
              "      cursor: pointer;\n",
              "      display: none;\n",
              "      fill: #1967D2;\n",
              "      height: 32px;\n",
              "      padding: 0 0 0 0;\n",
              "      width: 32px;\n",
              "    }\n",
              "\n",
              "    .colab-df-convert:hover {\n",
              "      background-color: #E2EBFA;\n",
              "      box-shadow: 0px 1px 2px rgba(60, 64, 67, 0.3), 0px 1px 3px 1px rgba(60, 64, 67, 0.15);\n",
              "      fill: #174EA6;\n",
              "    }\n",
              "\n",
              "    .colab-df-buttons div {\n",
              "      margin-bottom: 4px;\n",
              "    }\n",
              "\n",
              "    [theme=dark] .colab-df-convert {\n",
              "      background-color: #3B4455;\n",
              "      fill: #D2E3FC;\n",
              "    }\n",
              "\n",
              "    [theme=dark] .colab-df-convert:hover {\n",
              "      background-color: #434B5C;\n",
              "      box-shadow: 0px 1px 3px 1px rgba(0, 0, 0, 0.15);\n",
              "      filter: drop-shadow(0px 1px 2px rgba(0, 0, 0, 0.3));\n",
              "      fill: #FFFFFF;\n",
              "    }\n",
              "  </style>\n",
              "\n",
              "    <script>\n",
              "      const buttonEl =\n",
              "        document.querySelector('#df-6b722be3-457c-4e9f-95de-14792241554d button.colab-df-convert');\n",
              "      buttonEl.style.display =\n",
              "        google.colab.kernel.accessAllowed ? 'block' : 'none';\n",
              "\n",
              "      async function convertToInteractive(key) {\n",
              "        const element = document.querySelector('#df-6b722be3-457c-4e9f-95de-14792241554d');\n",
              "        const dataTable =\n",
              "          await google.colab.kernel.invokeFunction('convertToInteractive',\n",
              "                                                    [key], {});\n",
              "        if (!dataTable) return;\n",
              "\n",
              "        const docLinkHtml = 'Like what you see? Visit the ' +\n",
              "          '<a target=\"_blank\" href=https://colab.research.google.com/notebooks/data_table.ipynb>data table notebook</a>'\n",
              "          + ' to learn more about interactive tables.';\n",
              "        element.innerHTML = '';\n",
              "        dataTable['output_type'] = 'display_data';\n",
              "        await google.colab.output.renderOutput(dataTable, element);\n",
              "        const docLink = document.createElement('div');\n",
              "        docLink.innerHTML = docLinkHtml;\n",
              "        element.appendChild(docLink);\n",
              "      }\n",
              "    </script>\n",
              "  </div>\n",
              "\n",
              "\n",
              "    <div id=\"df-d5c269c9-2046-4ea0-a36b-40cea828681d\">\n",
              "      <button class=\"colab-df-quickchart\" onclick=\"quickchart('df-d5c269c9-2046-4ea0-a36b-40cea828681d')\"\n",
              "                title=\"Suggest charts\"\n",
              "                style=\"display:none;\">\n",
              "\n",
              "<svg xmlns=\"http://www.w3.org/2000/svg\" height=\"24px\"viewBox=\"0 0 24 24\"\n",
              "     width=\"24px\">\n",
              "    <g>\n",
              "        <path d=\"M19 3H5c-1.1 0-2 .9-2 2v14c0 1.1.9 2 2 2h14c1.1 0 2-.9 2-2V5c0-1.1-.9-2-2-2zM9 17H7v-7h2v7zm4 0h-2V7h2v10zm4 0h-2v-4h2v4z\"/>\n",
              "    </g>\n",
              "</svg>\n",
              "      </button>\n",
              "\n",
              "<style>\n",
              "  .colab-df-quickchart {\n",
              "      --bg-color: #E8F0FE;\n",
              "      --fill-color: #1967D2;\n",
              "      --hover-bg-color: #E2EBFA;\n",
              "      --hover-fill-color: #174EA6;\n",
              "      --disabled-fill-color: #AAA;\n",
              "      --disabled-bg-color: #DDD;\n",
              "  }\n",
              "\n",
              "  [theme=dark] .colab-df-quickchart {\n",
              "      --bg-color: #3B4455;\n",
              "      --fill-color: #D2E3FC;\n",
              "      --hover-bg-color: #434B5C;\n",
              "      --hover-fill-color: #FFFFFF;\n",
              "      --disabled-bg-color: #3B4455;\n",
              "      --disabled-fill-color: #666;\n",
              "  }\n",
              "\n",
              "  .colab-df-quickchart {\n",
              "    background-color: var(--bg-color);\n",
              "    border: none;\n",
              "    border-radius: 50%;\n",
              "    cursor: pointer;\n",
              "    display: none;\n",
              "    fill: var(--fill-color);\n",
              "    height: 32px;\n",
              "    padding: 0;\n",
              "    width: 32px;\n",
              "  }\n",
              "\n",
              "  .colab-df-quickchart:hover {\n",
              "    background-color: var(--hover-bg-color);\n",
              "    box-shadow: 0 1px 2px rgba(60, 64, 67, 0.3), 0 1px 3px 1px rgba(60, 64, 67, 0.15);\n",
              "    fill: var(--button-hover-fill-color);\n",
              "  }\n",
              "\n",
              "  .colab-df-quickchart-complete:disabled,\n",
              "  .colab-df-quickchart-complete:disabled:hover {\n",
              "    background-color: var(--disabled-bg-color);\n",
              "    fill: var(--disabled-fill-color);\n",
              "    box-shadow: none;\n",
              "  }\n",
              "\n",
              "  .colab-df-spinner {\n",
              "    border: 2px solid var(--fill-color);\n",
              "    border-color: transparent;\n",
              "    border-bottom-color: var(--fill-color);\n",
              "    animation:\n",
              "      spin 1s steps(1) infinite;\n",
              "  }\n",
              "\n",
              "  @keyframes spin {\n",
              "    0% {\n",
              "      border-color: transparent;\n",
              "      border-bottom-color: var(--fill-color);\n",
              "      border-left-color: var(--fill-color);\n",
              "    }\n",
              "    20% {\n",
              "      border-color: transparent;\n",
              "      border-left-color: var(--fill-color);\n",
              "      border-top-color: var(--fill-color);\n",
              "    }\n",
              "    30% {\n",
              "      border-color: transparent;\n",
              "      border-left-color: var(--fill-color);\n",
              "      border-top-color: var(--fill-color);\n",
              "      border-right-color: var(--fill-color);\n",
              "    }\n",
              "    40% {\n",
              "      border-color: transparent;\n",
              "      border-right-color: var(--fill-color);\n",
              "      border-top-color: var(--fill-color);\n",
              "    }\n",
              "    60% {\n",
              "      border-color: transparent;\n",
              "      border-right-color: var(--fill-color);\n",
              "    }\n",
              "    80% {\n",
              "      border-color: transparent;\n",
              "      border-right-color: var(--fill-color);\n",
              "      border-bottom-color: var(--fill-color);\n",
              "    }\n",
              "    90% {\n",
              "      border-color: transparent;\n",
              "      border-bottom-color: var(--fill-color);\n",
              "    }\n",
              "  }\n",
              "</style>\n",
              "\n",
              "      <script>\n",
              "        async function quickchart(key) {\n",
              "          const quickchartButtonEl =\n",
              "            document.querySelector('#' + key + ' button');\n",
              "          quickchartButtonEl.disabled = true;  // To prevent multiple clicks.\n",
              "          quickchartButtonEl.classList.add('colab-df-spinner');\n",
              "          try {\n",
              "            const charts = await google.colab.kernel.invokeFunction(\n",
              "                'suggestCharts', [key], {});\n",
              "          } catch (error) {\n",
              "            console.error('Error during call to suggestCharts:', error);\n",
              "          }\n",
              "          quickchartButtonEl.classList.remove('colab-df-spinner');\n",
              "          quickchartButtonEl.classList.add('colab-df-quickchart-complete');\n",
              "        }\n",
              "        (() => {\n",
              "          let quickchartButtonEl =\n",
              "            document.querySelector('#df-d5c269c9-2046-4ea0-a36b-40cea828681d button');\n",
              "          quickchartButtonEl.style.display =\n",
              "            google.colab.kernel.accessAllowed ? 'block' : 'none';\n",
              "        })();\n",
              "      </script>\n",
              "    </div>\n",
              "\n",
              "    </div>\n",
              "  </div>\n"
            ],
            "application/vnd.google.colaboratory.intrinsic+json": {
              "type": "dataframe",
              "variable_name": "train_df",
              "summary": "{\n  \"name\": \"train_df\",\n  \"rows\": 4000,\n  \"fields\": [\n    {\n      \"column\": \"image_path\",\n      \"properties\": {\n        \"dtype\": \"string\",\n        \"num_unique_values\": 4000,\n        \"samples\": [\n          \"/content/drive/MyDrive/Brain_tumor_detection/image/Tumor/glioma (315).jpg\",\n          \"/content/drive/MyDrive/Brain_tumor_detection/image/Healthy/mri_healthy (1536).jpg\",\n          \"/content/drive/MyDrive/Brain_tumor_detection/image/Healthy/mri_healthy (1805).jpg\"\n        ],\n        \"semantic_type\": \"\",\n        \"description\": \"\"\n      }\n    },\n    {\n      \"column\": \"category_encoded\",\n      \"properties\": {\n        \"dtype\": \"category\",\n        \"num_unique_values\": 2,\n        \"samples\": [\n          \"0\",\n          \"1\"\n        ],\n        \"semantic_type\": \"\",\n        \"description\": \"\"\n      }\n    }\n  ]\n}"
            }
          },
          "metadata": {},
          "execution_count": 13
        }
      ]
    },
    {
      "cell_type": "code",
      "source": [
        "# %% Generadores de datos para ResNet\n",
        "batch_size = 32\n",
        "img_size = (224, 224)  # ResNet requiere 224x224"
      ],
      "metadata": {
        "id": "Cbm93a1_FVOy"
      },
      "execution_count": null,
      "outputs": []
    },
    {
      "cell_type": "markdown",
      "source": [
        "## 2.5 Aumentación de Datos para Entrenamiento (train_datagen)"
      ],
      "metadata": {
        "id": "BMtzfpIbFgOy"
      }
    },
    {
      "cell_type": "code",
      "source": [
        "# Data augmentation para entrenamiento\n",
        "train_datagen = ImageDataGenerator(\n",
        "    preprocessing_function=preprocess_input,  # Preprocesamiento específico de ResNet\n",
        "    rotation_range=20,\n",
        "    width_shift_range=0.2,\n",
        "    height_shift_range=0.2,\n",
        "    shear_range=0.2,\n",
        "    zoom_range=0.2,\n",
        "    horizontal_flip=True,\n",
        "    fill_mode='nearest'\n",
        ")"
      ],
      "metadata": {
        "id": "-p9HhCfOFjJi"
      },
      "execution_count": null,
      "outputs": []
    },
    {
      "cell_type": "markdown",
      "source": [
        "## 2.6 Preprocesamiento para Validación y Prueba (test_datagen)"
      ],
      "metadata": {
        "id": "5xtBVF6zP6U6"
      }
    },
    {
      "cell_type": "code",
      "source": [
        "# Solo preprocesamiento para validación y prueba\n",
        "test_datagen = ImageDataGenerator(preprocessing_function=preprocess_input)"
      ],
      "metadata": {
        "id": "1XfqfwGuP5Wk"
      },
      "execution_count": null,
      "outputs": []
    },
    {
      "cell_type": "markdown",
      "source": [
        "## 2.7 Creación de los Flujos de Datos (flow_from_dataframe)"
      ],
      "metadata": {
        "id": "k5QK5z8QQSzL"
      }
    },
    {
      "cell_type": "code",
      "source": [
        "# Generador para el conjunto de entrenamiento\n",
        "train_gen = train_datagen.flow_from_dataframe(\n",
        "    train_df,                   # DataFrame con datos de entrenamiento (sobremuestreados)\n",
        "    x_col='image_path',         # Columna con las rutas de las imágenes\n",
        "    y_col='category_encoded',   # Columna con las etiquetas codificadas (como string)\n",
        "    target_size=img_size,       # Tamaño al que se redimensionarán las imágenes\n",
        "    class_mode='binary',        # Para clasificación binaria\n",
        "    color_mode='rgb',           # Cargar imágenes en color\n",
        "    shuffle=True,               # Mezclar los datos de entrenamiento en cada época\n",
        "    batch_size=batch_size\n",
        ")\n",
        "\n",
        "# Generador para el conjunto de validación\n",
        "valid_gen = test_datagen.flow_from_dataframe(\n",
        "    valid_df,                   # DataFrame con datos de validación (originales)\n",
        "    x_col='image_path',\n",
        "    y_col='category_encoded',\n",
        "    target_size=img_size,\n",
        "    class_mode='binary',\n",
        "    color_mode='rgb',\n",
        "    shuffle=False,               # Mezclar datos de validación (opcional, pero True en el script)\n",
        "    batch_size=batch_size\n",
        ")\n",
        "\n",
        "# Generador para el conjunto de prueba\n",
        "test_gen = test_datagen.flow_from_dataframe(\n",
        "    test_df,                    # DataFrame con datos de prueba (originales)\n",
        "    x_col='image_path',\n",
        "    y_col='category_encoded',\n",
        "    target_size=img_size,\n",
        "    class_mode='binary',\n",
        "    color_mode='rgb',\n",
        "    shuffle=False,              # IMPORTANTE: No mezclar el conjunto de prueba\n",
        "    batch_size=batch_size\n",
        ")\n",
        "\n"
      ],
      "metadata": {
        "colab": {
          "base_uri": "https://localhost:8080/"
        },
        "id": "VF83CX2AQVWT",
        "outputId": "84eb4257-5153-4f83-e270-51380e964f6e"
      },
      "execution_count": null,
      "outputs": [
        {
          "output_type": "stream",
          "name": "stdout",
          "text": [
            "Found 4000 validated image filenames belonging to 2 classes.\n",
            "Found 500 validated image filenames belonging to 2 classes.\n",
            "Found 500 validated image filenames belonging to 2 classes.\n"
          ]
        }
      ]
    },
    {
      "cell_type": "code",
      "source": [
        "# Obtener un batch de datos del generador de entrenamiento\n",
        "x_batch, y_batch = next(train_gen)\n",
        "\n",
        "img_tensor = x_batch[0]\n",
        "print('Forma de la imagen:', img_tensor.shape)\n",
        "print('Tipo de dato de la imagen:', img_tensor.dtype)\n",
        "\n",
        "np.printoptions(precision=2, suppress=True)\n",
        "print('Valores de la imagen:')\n",
        "print(img_tensor[:,:,0])# imagen del color rojo"
      ],
      "metadata": {
        "colab": {
          "base_uri": "https://localhost:8080/"
        },
        "id": "Tx8bq2SpUNk6",
        "outputId": "f863ce87-2ef1-4ec4-a304-dcdcca19d6e3"
      },
      "execution_count": null,
      "outputs": [
        {
          "output_type": "stream",
          "name": "stdout",
          "text": [
            "Forma de la imagen: (224, 224, 3)\n",
            "Tipo de dato de la imagen: float32\n",
            "Valores de la imagen:\n",
            "[[-98.939    -98.939    -98.939    ... -97.939    -97.939    -97.939   ]\n",
            " [-98.939    -98.939    -98.939    ... -97.939    -97.939    -97.939   ]\n",
            " [-98.939    -98.939    -98.939    ... -97.939    -97.939    -97.939   ]\n",
            " ...\n",
            " [-95.8635   -95.93411  -95.37304  ... -97.939    -97.939    -97.939   ]\n",
            " [-95.98336  -95.9462   -95.71165  ... -97.939    -97.939    -97.939   ]\n",
            " [-96.25262  -96.89314  -96.736916 ... -97.939    -97.939    -97.939   ]]\n"
          ]
        }
      ]
    },
    {
      "cell_type": "markdown",
      "source": [
        "# Bloque 3 : Entrenamiento_Modelo_ResNet50"
      ],
      "metadata": {
        "id": "VDlCaOiRW2gI"
      }
    },
    {
      "cell_type": "markdown",
      "source": [
        "## 3.1 Construcción del Modelo ResNet50"
      ],
      "metadata": {
        "id": "w6T0mHtecG2S"
      }
    },
    {
      "cell_type": "code",
      "source": [
        "# %% Construcción del modelo ResNet50\n",
        "def build_resnet_model(input_shape=(224, 224, 3)):\n",
        "    # Cargar ResNet50 preentrenada (sin las capas superiores de clasificación de ImageNet)\n",
        "    base_model = ResNet50(\n",
        "        include_top=False,      # No incluir la capa densa final de ResNet50\n",
        "        weights='imagenet',     # Usar pesos pre-entrenados en ImageNet\n",
        "        input_shape=input_shape # Definir la forma de entrada de las imágenes\n",
        "    )\n",
        "\n",
        "    # Congelar las capas del modelo base inicialmente.\n",
        "    # Sus pesos no se actualizarán durante la primera fase de entrenamiento.\n",
        "    base_model.trainable = False\n",
        "\n",
        "    # Construir el modelo completo añadiendo nuestras propias capas encima de ResNet50\n",
        "    inputs = layers.Input(shape=input_shape) # Capa de entrada\n",
        "    # Pasar las entradas a través del modelo base.\n",
        "    x = base_model(inputs, training=False)\n",
        "    # Reducir la dimensionalidad espacial a un vector por cada mapa de características.\n",
        "    x = layers.GlobalAveragePooling2D()(x)\n",
        "    x = layers.Dropout(0.5)(x)  # Capa de Dropout para regularización\n",
        "    # Capa densa final para la clasificación binaria, con activación sigmoide.\n",
        "    # Se añade regularización L2 al kernel para prevenir el sobreajuste.\n",
        "    outputs = layers.Dense(1, activation='sigmoid',\n",
        "                          kernel_regularizer=tf.keras.regularizers.l2(0.01))(x)\n",
        "\n",
        "    # Crear el modelo final especificando las entradas y salidas.\n",
        "    model = Model(inputs, outputs)\n",
        "    return model\n",
        "\n",
        "# Instanciar el modelo\n",
        "model = build_resnet_model()"
      ],
      "metadata": {
        "colab": {
          "base_uri": "https://localhost:8080/"
        },
        "id": "b81HrX7aXECy",
        "outputId": "6833ab74-da5d-4e35-dcab-8e0e7d5dadaf"
      },
      "execution_count": null,
      "outputs": [
        {
          "output_type": "stream",
          "name": "stdout",
          "text": [
            "Downloading data from https://storage.googleapis.com/tensorflow/keras-applications/resnet/resnet50_weights_tf_dim_ordering_tf_kernels_notop.h5\n",
            "\u001b[1m94765736/94765736\u001b[0m \u001b[32m━━━━━━━━━━━━━━━━━━━━\u001b[0m\u001b[37m\u001b[0m \u001b[1m0s\u001b[0m 0us/step\n"
          ]
        }
      ]
    },
    {
      "cell_type": "markdown",
      "source": [
        "## 3.2 Compilación del Modelo"
      ],
      "metadata": {
        "id": "_nDzEs9pco_C"
      }
    },
    {
      "cell_type": "code",
      "source": [
        "# Compilación del modelo\n",
        "model.compile(\n",
        "    optimizer=Adam(learning_rate=1e-3), # Optimizador Adam con una tasa de aprendizaje inicial\n",
        "    loss='binary_crossentropy',         # Función de pérdida para clasificación binaria\n",
        "    metrics=['accuracy', AUC(name='auc')] # Métricas a monitorear\n",
        ")"
      ],
      "metadata": {
        "id": "xtijksxGcsHG"
      },
      "execution_count": null,
      "outputs": []
    },
    {
      "cell_type": "markdown",
      "source": [
        "## 3.3 Definición de Callbacks"
      ],
      "metadata": {
        "id": "_pSkRXrDc_E2"
      }
    },
    {
      "cell_type": "code",
      "source": [
        "# Callbacks para el entrenamiento\n",
        "callbacks_list = [\n",
        "    callbacks.EarlyStopping(\n",
        "        monitor='val_auc',        # Métrica a monitorear (AUC en el conjunto de validación)\n",
        "        patience=5,               # Número de épocas a esperar sin mejora antes de detener\n",
        "        mode='max',               # Indica que buscamos maximizar la métrica (AUC)\n",
        "        restore_best_weights=True,# Restaura los pesos del modelo de la mejor época al finalizar\n",
        "        verbose=1                 # Muestra mensajes cuando el callback se activa\n",
        "    ),\n",
        "    callbacks.ReduceLROnPlateau(\n",
        "        monitor='val_loss',       # Métrica a monitorear (pérdida en el conjunto de validación)\n",
        "        factor=0.1,               # Factor por el cual se reduce la tasa de aprendizaje (new_lr = lr * factor)\n",
        "        patience=3,               # Número de épocas a esperar sin mejora antes de reducir LR\n",
        "        verbose=1\n",
        "    ),\n",
        "    callbacks.ModelCheckpoint(\n",
        "        'best_resnet_model.h5',   # Nombre del archivo para guardar el mejor modelo\n",
        "        monitor='val_auc',        # Métrica que determina si el modelo es \"mejor\"\n",
        "        save_best_only=True,      # Guarda solo el modelo si la métrica monitoreada ha mejorado\n",
        "        mode='max',               # El objetivo es maximizar val_auc\n",
        "        verbose=1\n",
        "    )\n",
        "]"
      ],
      "metadata": {
        "id": "eriL39JrdB-G"
      },
      "execution_count": null,
      "outputs": []
    },
    {
      "cell_type": "markdown",
      "source": [
        "## 3.4 Entrenamiento en Dos Fases"
      ],
      "metadata": {
        "id": "h5FcYB42dOVH"
      }
    },
    {
      "cell_type": "markdown",
      "source": [
        "### Fase 1: Entrenar Solo las Capas Nuevas (Clasificador Superior)"
      ],
      "metadata": {
        "id": "gKPdhxlqdcky"
      }
    },
    {
      "cell_type": "code",
      "source": [
        "# Fase 1: Entrenar solo las capas nuevas\n",
        "print(\"\\nEntrenando capas nuevas...\")\n",
        "initial_epochs = 10 # Número de épocas para la primera fase de entrenamiento\n",
        "history = model.fit(\n",
        "    train_gen,\n",
        "    validation_data=valid_gen,\n",
        "    epochs=initial_epochs,\n",
        "    callbacks=callbacks_list, # Utilizar la lista de callbacks definida\n",
        "    verbose=1                 # Mostrar barra de progreso e información por época\n",
        ")"
      ],
      "metadata": {
        "colab": {
          "base_uri": "https://localhost:8080/"
        },
        "id": "C7htiIrhdQxG",
        "outputId": "02e544db-6c26-440b-c434-71aca96e382f"
      },
      "execution_count": null,
      "outputs": [
        {
          "output_type": "stream",
          "name": "stdout",
          "text": [
            "\n",
            "Entrenando capas nuevas...\n"
          ]
        },
        {
          "output_type": "stream",
          "name": "stderr",
          "text": [
            "/usr/local/lib/python3.11/dist-packages/keras/src/trainers/data_adapters/py_dataset_adapter.py:121: UserWarning: Your `PyDataset` class should call `super().__init__(**kwargs)` in its constructor. `**kwargs` can include `workers`, `use_multiprocessing`, `max_queue_size`. Do not pass these arguments to `fit()`, as they will be ignored.\n",
            "  self._warn_if_super_not_called()\n"
          ]
        },
        {
          "output_type": "stream",
          "name": "stdout",
          "text": [
            "Epoch 1/10\n",
            "\u001b[1m125/125\u001b[0m \u001b[32m━━━━━━━━━━━━━━━━━━━━\u001b[0m\u001b[37m\u001b[0m \u001b[1m0s\u001b[0m 10s/step - accuracy: 0.7279 - auc: 0.7999 - loss: 0.5534 \n",
            "Epoch 1: val_auc improved from -inf to 0.98149, saving model to best_resnet_model.h5\n"
          ]
        },
        {
          "output_type": "stream",
          "name": "stderr",
          "text": [
            "WARNING:absl:You are saving your model as an HDF5 file via `model.save()` or `keras.saving.save_model(model)`. This file format is considered legacy. We recommend using instead the native Keras format, e.g. `model.save('my_model.keras')` or `keras.saving.save_model(model, 'my_model.keras')`. \n"
          ]
        },
        {
          "output_type": "stream",
          "name": "stdout",
          "text": [
            "\b\b\b\b\b\b\b\b\b\b\b\b\b\b\b\b\b\b\b\b\b\b\b\b\b\b\b\b\b\b\b\b\b\b\b\b\b\b\b\b\b\b\b\b\b\b\b\b\b\b\b\b\b\b\b\b\b\b\b\b\b\b\b\b\b\b\b\b\b\b\b\b\b\b\b\b\b\b\b\b\b\b\b\b\b\b\b\b\r\u001b[1m125/125\u001b[0m \u001b[32m━━━━━━━━━━━━━━━━━━━━\u001b[0m\u001b[37m\u001b[0m \u001b[1m1491s\u001b[0m 12s/step - accuracy: 0.7286 - auc: 0.8007 - loss: 0.5523 - val_accuracy: 0.9260 - val_auc: 0.9815 - val_loss: 0.2039 - learning_rate: 0.0010\n",
            "Epoch 2/10\n",
            "\u001b[1m125/125\u001b[0m \u001b[32m━━━━━━━━━━━━━━━━━━━━\u001b[0m\u001b[37m\u001b[0m \u001b[1m0s\u001b[0m 518ms/step - accuracy: 0.9046 - auc: 0.9629 - loss: 0.2612\n",
            "Epoch 2: val_auc improved from 0.98149 to 0.98945, saving model to best_resnet_model.h5\n"
          ]
        },
        {
          "output_type": "stream",
          "name": "stderr",
          "text": [
            "WARNING:absl:You are saving your model as an HDF5 file via `model.save()` or `keras.saving.save_model(model)`. This file format is considered legacy. We recommend using instead the native Keras format, e.g. `model.save('my_model.keras')` or `keras.saving.save_model(model, 'my_model.keras')`. \n"
          ]
        },
        {
          "output_type": "stream",
          "name": "stdout",
          "text": [
            "\b\b\b\b\b\b\b\b\b\b\b\b\b\b\b\b\b\b\b\b\b\b\b\b\b\b\b\b\b\b\b\b\b\b\b\b\b\b\b\b\b\b\b\b\b\b\b\b\b\b\b\b\b\b\b\b\b\b\b\b\b\b\b\b\b\b\b\b\b\b\b\b\b\b\b\b\b\b\b\b\b\b\b\b\b\b\b\b\b\b\r\u001b[1m125/125\u001b[0m \u001b[32m━━━━━━━━━━━━━━━━━━━━\u001b[0m\u001b[37m\u001b[0m \u001b[1m68s\u001b[0m 545ms/step - accuracy: 0.9046 - auc: 0.9630 - loss: 0.2612 - val_accuracy: 0.9460 - val_auc: 0.9894 - val_loss: 0.1721 - learning_rate: 0.0010\n",
            "Epoch 3/10\n",
            "\u001b[1m125/125\u001b[0m \u001b[32m━━━━━━━━━━━━━━━━━━━━\u001b[0m\u001b[37m\u001b[0m \u001b[1m0s\u001b[0m 534ms/step - accuracy: 0.9246 - auc: 0.9739 - loss: 0.2263\n",
            "Epoch 3: val_auc improved from 0.98945 to 0.99103, saving model to best_resnet_model.h5\n"
          ]
        },
        {
          "output_type": "stream",
          "name": "stderr",
          "text": [
            "WARNING:absl:You are saving your model as an HDF5 file via `model.save()` or `keras.saving.save_model(model)`. This file format is considered legacy. We recommend using instead the native Keras format, e.g. `model.save('my_model.keras')` or `keras.saving.save_model(model, 'my_model.keras')`. \n"
          ]
        },
        {
          "output_type": "stream",
          "name": "stdout",
          "text": [
            "\b\b\b\b\b\b\b\b\b\b\b\b\b\b\b\b\b\b\b\b\b\b\b\b\b\b\b\b\b\b\b\b\b\b\b\b\b\b\b\b\b\b\b\b\b\b\b\b\b\b\b\b\b\b\b\b\b\b\b\b\b\b\b\b\b\b\b\b\b\b\b\b\b\b\b\b\b\b\b\b\b\b\b\b\b\b\b\b\b\b\r\u001b[1m125/125\u001b[0m \u001b[32m━━━━━━━━━━━━━━━━━━━━\u001b[0m\u001b[37m\u001b[0m \u001b[1m70s\u001b[0m 559ms/step - accuracy: 0.9246 - auc: 0.9739 - loss: 0.2263 - val_accuracy: 0.9640 - val_auc: 0.9910 - val_loss: 0.1512 - learning_rate: 0.0010\n",
            "Epoch 4/10\n",
            "\u001b[1m125/125\u001b[0m \u001b[32m━━━━━━━━━━━━━━━━━━━━\u001b[0m\u001b[37m\u001b[0m \u001b[1m0s\u001b[0m 511ms/step - accuracy: 0.9357 - auc: 0.9810 - loss: 0.1974\n",
            "Epoch 4: val_auc improved from 0.99103 to 0.99195, saving model to best_resnet_model.h5\n"
          ]
        },
        {
          "output_type": "stream",
          "name": "stderr",
          "text": [
            "WARNING:absl:You are saving your model as an HDF5 file via `model.save()` or `keras.saving.save_model(model)`. This file format is considered legacy. We recommend using instead the native Keras format, e.g. `model.save('my_model.keras')` or `keras.saving.save_model(model, 'my_model.keras')`. \n"
          ]
        },
        {
          "output_type": "stream",
          "name": "stdout",
          "text": [
            "\b\b\b\b\b\b\b\b\b\b\b\b\b\b\b\b\b\b\b\b\b\b\b\b\b\b\b\b\b\b\b\b\b\b\b\b\b\b\b\b\b\b\b\b\b\b\b\b\b\b\b\b\b\b\b\b\b\b\b\b\b\b\b\b\b\b\b\b\b\b\b\b\b\b\b\b\b\b\b\b\b\b\b\b\b\b\b\b\b\b\r\u001b[1m125/125\u001b[0m \u001b[32m━━━━━━━━━━━━━━━━━━━━\u001b[0m\u001b[37m\u001b[0m \u001b[1m67s\u001b[0m 536ms/step - accuracy: 0.9357 - auc: 0.9810 - loss: 0.1974 - val_accuracy: 0.9600 - val_auc: 0.9919 - val_loss: 0.1447 - learning_rate: 0.0010\n",
            "Epoch 5/10\n",
            "\u001b[1m125/125\u001b[0m \u001b[32m━━━━━━━━━━━━━━━━━━━━\u001b[0m\u001b[37m\u001b[0m \u001b[1m0s\u001b[0m 521ms/step - accuracy: 0.9387 - auc: 0.9850 - loss: 0.1847\n",
            "Epoch 5: val_auc improved from 0.99195 to 0.99288, saving model to best_resnet_model.h5\n"
          ]
        },
        {
          "output_type": "stream",
          "name": "stderr",
          "text": [
            "WARNING:absl:You are saving your model as an HDF5 file via `model.save()` or `keras.saving.save_model(model)`. This file format is considered legacy. We recommend using instead the native Keras format, e.g. `model.save('my_model.keras')` or `keras.saving.save_model(model, 'my_model.keras')`. \n"
          ]
        },
        {
          "output_type": "stream",
          "name": "stdout",
          "text": [
            "\b\b\b\b\b\b\b\b\b\b\b\b\b\b\b\b\b\b\b\b\b\b\b\b\b\b\b\b\b\b\b\b\b\b\b\b\b\b\b\b\b\b\b\b\b\b\b\b\b\b\b\b\b\b\b\b\b\b\b\b\b\b\b\b\b\b\b\b\b\b\b\b\b\b\b\b\b\b\b\b\b\b\b\b\b\b\b\b\b\b\r\u001b[1m125/125\u001b[0m \u001b[32m━━━━━━━━━━━━━━━━━━━━\u001b[0m\u001b[37m\u001b[0m \u001b[1m71s\u001b[0m 568ms/step - accuracy: 0.9386 - auc: 0.9850 - loss: 0.1848 - val_accuracy: 0.9620 - val_auc: 0.9929 - val_loss: 0.1390 - learning_rate: 0.0010\n",
            "Epoch 6/10\n",
            "\u001b[1m125/125\u001b[0m \u001b[32m━━━━━━━━━━━━━━━━━━━━\u001b[0m\u001b[37m\u001b[0m \u001b[1m0s\u001b[0m 524ms/step - accuracy: 0.9433 - auc: 0.9869 - loss: 0.1794\n",
            "Epoch 6: val_auc improved from 0.99288 to 0.99364, saving model to best_resnet_model.h5\n"
          ]
        },
        {
          "output_type": "stream",
          "name": "stderr",
          "text": [
            "WARNING:absl:You are saving your model as an HDF5 file via `model.save()` or `keras.saving.save_model(model)`. This file format is considered legacy. We recommend using instead the native Keras format, e.g. `model.save('my_model.keras')` or `keras.saving.save_model(model, 'my_model.keras')`. \n"
          ]
        },
        {
          "output_type": "stream",
          "name": "stdout",
          "text": [
            "\b\b\b\b\b\b\b\b\b\b\b\b\b\b\b\b\b\b\b\b\b\b\b\b\b\b\b\b\b\b\b\b\b\b\b\b\b\b\b\b\b\b\b\b\b\b\b\b\b\b\b\b\b\b\b\b\b\b\b\b\b\b\b\b\b\b\b\b\b\b\b\b\b\b\b\b\b\b\b\b\b\b\b\b\b\b\b\b\b\b\r\u001b[1m125/125\u001b[0m \u001b[32m━━━━━━━━━━━━━━━━━━━━\u001b[0m\u001b[37m\u001b[0m \u001b[1m69s\u001b[0m 552ms/step - accuracy: 0.9433 - auc: 0.9869 - loss: 0.1793 - val_accuracy: 0.9560 - val_auc: 0.9936 - val_loss: 0.1418 - learning_rate: 0.0010\n",
            "Epoch 7/10\n",
            "\u001b[1m125/125\u001b[0m \u001b[32m━━━━━━━━━━━━━━━━━━━━\u001b[0m\u001b[37m\u001b[0m \u001b[1m0s\u001b[0m 522ms/step - accuracy: 0.9484 - auc: 0.9888 - loss: 0.1678\n",
            "Epoch 7: val_auc improved from 0.99364 to 0.99374, saving model to best_resnet_model.h5\n"
          ]
        },
        {
          "output_type": "stream",
          "name": "stderr",
          "text": [
            "WARNING:absl:You are saving your model as an HDF5 file via `model.save()` or `keras.saving.save_model(model)`. This file format is considered legacy. We recommend using instead the native Keras format, e.g. `model.save('my_model.keras')` or `keras.saving.save_model(model, 'my_model.keras')`. \n"
          ]
        },
        {
          "output_type": "stream",
          "name": "stdout",
          "text": [
            "\b\b\b\b\b\b\b\b\b\b\b\b\b\b\b\b\b\b\b\b\b\b\b\b\b\b\b\b\b\b\b\b\b\b\b\b\b\b\b\b\b\b\b\b\b\b\b\b\b\b\b\b\b\b\b\b\b\b\b\b\b\b\b\b\b\b\b\b\b\b\b\b\b\b\b\b\b\b\b\b\b\b\b\b\b\b\b\b\b\b\r\u001b[1m125/125\u001b[0m \u001b[32m━━━━━━━━━━━━━━━━━━━━\u001b[0m\u001b[37m\u001b[0m \u001b[1m69s\u001b[0m 551ms/step - accuracy: 0.9484 - auc: 0.9888 - loss: 0.1678 - val_accuracy: 0.9520 - val_auc: 0.9937 - val_loss: 0.1444 - learning_rate: 0.0010\n",
            "Epoch 8/10\n",
            "\u001b[1m125/125\u001b[0m \u001b[32m━━━━━━━━━━━━━━━━━━━━\u001b[0m\u001b[37m\u001b[0m \u001b[1m0s\u001b[0m 515ms/step - accuracy: 0.9427 - auc: 0.9872 - loss: 0.1745\n",
            "Epoch 8: val_auc did not improve from 0.99374\n",
            "\u001b[1m125/125\u001b[0m \u001b[32m━━━━━━━━━━━━━━━━━━━━\u001b[0m\u001b[37m\u001b[0m \u001b[1m80s\u001b[0m 536ms/step - accuracy: 0.9427 - auc: 0.9872 - loss: 0.1745 - val_accuracy: 0.9640 - val_auc: 0.9931 - val_loss: 0.1357 - learning_rate: 0.0010\n",
            "Epoch 9/10\n",
            "\u001b[1m125/125\u001b[0m \u001b[32m━━━━━━━━━━━━━━━━━━━━\u001b[0m\u001b[37m\u001b[0m \u001b[1m0s\u001b[0m 524ms/step - accuracy: 0.9472 - auc: 0.9867 - loss: 0.1744\n",
            "Epoch 9: val_auc did not improve from 0.99374\n",
            "\u001b[1m125/125\u001b[0m \u001b[32m━━━━━━━━━━━━━━━━━━━━\u001b[0m\u001b[37m\u001b[0m \u001b[1m68s\u001b[0m 544ms/step - accuracy: 0.9472 - auc: 0.9867 - loss: 0.1743 - val_accuracy: 0.9660 - val_auc: 0.9937 - val_loss: 0.1321 - learning_rate: 0.0010\n",
            "Epoch 10/10\n",
            "\u001b[1m125/125\u001b[0m \u001b[32m━━━━━━━━━━━━━━━━━━━━\u001b[0m\u001b[37m\u001b[0m \u001b[1m0s\u001b[0m 515ms/step - accuracy: 0.9492 - auc: 0.9866 - loss: 0.1735\n",
            "Epoch 10: val_auc did not improve from 0.99374\n",
            "\u001b[1m125/125\u001b[0m \u001b[32m━━━━━━━━━━━━━━━━━━━━\u001b[0m\u001b[37m\u001b[0m \u001b[1m67s\u001b[0m 535ms/step - accuracy: 0.9492 - auc: 0.9866 - loss: 0.1735 - val_accuracy: 0.9600 - val_auc: 0.9937 - val_loss: 0.1336 - learning_rate: 0.0010\n",
            "Restoring model weights from the end of the best epoch: 7.\n"
          ]
        }
      ]
    },
    {
      "cell_type": "markdown",
      "source": [
        "### Fase 2: Fine-Tuning de Todo el Modelo"
      ],
      "metadata": {
        "id": "uSrHxmqqCBQJ"
      }
    },
    {
      "cell_type": "code",
      "source": [
        "# Fase 2: Fine-tuning de todo el modelo\n",
        "print(\"\\nFine-tuning de todo el modelo...\")\n",
        "# Acceder a la capa base ResNet50 dentro del modelo 'model'\n",
        "base_model_layer_from_model = model.layers[1] # Obtenemos la referencia a la capa ResNet50\n",
        "base_model_layer_from_model.trainable = True   # Hacemos que la capa ResNet50 sea entrenable\n",
        "\n",
        "# Recompilar el modelo con una tasa de aprendizaje mucho más baja para el fine-tuning\n",
        "# Esto es esencial para no destruir los pesos pre-entrenados de ResNet50.\n",
        "model.compile(\n",
        "    optimizer=Adam(learning_rate=1e-5), # Tasa de aprendizaje significativamente menor\n",
        "    loss='binary_crossentropy',\n",
        "    metrics=['accuracy', AUC(name='auc')]\n",
        ")\n",
        "\n",
        "fine_tune_epochs = 10 # Número de épocas adicionales para el fine-tuning\n",
        "total_epochs = initial_epochs + fine_tune_epochs # Número total de épocas de entrenamiento\n",
        "\n",
        "# Continuar el entrenamiento (fine-tuning)\n",
        "history_fine = model.fit(\n",
        "    train_gen,\n",
        "    validation_data=valid_gen,\n",
        "    initial_epoch=history.epoch[-1]+1, # Comenzar el conteo de épocas desde el final de la fase anterior\n",
        "    epochs=total_epochs,            # Entrenar hasta alcanzar el número total de épocas\n",
        "    callbacks=callbacks_list,\n",
        "    verbose=1\n",
        ")\n",
        "\n",
        "model.save('final_resnet_model.h5')\n",
        "\n",
        "# Copiar el archivo .h5 al Drive\n",
        "!cp final_resnet_model.h5 /content/drive/MyDrive/Brain_tumor_detection/final_resnet_model.h5"
      ],
      "metadata": {
        "colab": {
          "base_uri": "https://localhost:8080/"
        },
        "id": "We0eR67ZCAlS",
        "outputId": "c283535b-7cea-4bc6-b60d-1d31e8be638b"
      },
      "execution_count": null,
      "outputs": [
        {
          "output_type": "stream",
          "name": "stdout",
          "text": [
            "\n",
            "Fine-tuning de todo el modelo...\n",
            "Epoch 11/20\n",
            "\u001b[1m125/125\u001b[0m \u001b[32m━━━━━━━━━━━━━━━━━━━━\u001b[0m\u001b[37m\u001b[0m \u001b[1m0s\u001b[0m 612ms/step - accuracy: 0.9317 - auc: 0.9827 - loss: 0.1970\n",
            "Epoch 11: val_auc improved from 0.99374 to 0.99667, saving model to best_resnet_model.h5\n"
          ]
        },
        {
          "output_type": "stream",
          "name": "stderr",
          "text": [
            "WARNING:absl:You are saving your model as an HDF5 file via `model.save()` or `keras.saving.save_model(model)`. This file format is considered legacy. We recommend using instead the native Keras format, e.g. `model.save('my_model.keras')` or `keras.saving.save_model(model, 'my_model.keras')`. \n"
          ]
        },
        {
          "output_type": "stream",
          "name": "stdout",
          "text": [
            "\b\b\b\b\b\b\b\b\b\b\b\b\b\b\b\b\b\b\b\b\b\b\b\b\b\b\b\b\b\b\b\b\b\b\b\b\b\b\b\b\b\b\b\b\b\b\b\b\b\b\b\b\b\b\b\b\b\b\b\b\b\b\b\b\b\b\b\b\b\b\b\b\b\b\b\b\b\b\b\b\b\b\b\b\b\b\b\b\b\b\r\u001b[1m125/125\u001b[0m \u001b[32m━━━━━━━━━━━━━━━━━━━━\u001b[0m\u001b[37m\u001b[0m \u001b[1m151s\u001b[0m 706ms/step - accuracy: 0.9318 - auc: 0.9828 - loss: 0.1968 - val_accuracy: 0.9720 - val_auc: 0.9967 - val_loss: 0.1051 - learning_rate: 1.0000e-05\n",
            "Epoch 12/20\n",
            "\u001b[1m125/125\u001b[0m \u001b[32m━━━━━━━━━━━━━━━━━━━━\u001b[0m\u001b[37m\u001b[0m \u001b[1m0s\u001b[0m 575ms/step - accuracy: 0.9737 - auc: 0.9967 - loss: 0.1022\n",
            "Epoch 12: val_auc did not improve from 0.99667\n",
            "\u001b[1m125/125\u001b[0m \u001b[32m━━━━━━━━━━━━━━━━━━━━\u001b[0m\u001b[37m\u001b[0m \u001b[1m75s\u001b[0m 596ms/step - accuracy: 0.9738 - auc: 0.9967 - loss: 0.1021 - val_accuracy: 0.9780 - val_auc: 0.9949 - val_loss: 0.0922 - learning_rate: 1.0000e-05\n",
            "Epoch 13/20\n",
            "\u001b[1m125/125\u001b[0m \u001b[32m━━━━━━━━━━━━━━━━━━━━\u001b[0m\u001b[37m\u001b[0m \u001b[1m0s\u001b[0m 588ms/step - accuracy: 0.9871 - auc: 0.9994 - loss: 0.0651\n",
            "Epoch 13: val_auc did not improve from 0.99667\n",
            "\u001b[1m125/125\u001b[0m \u001b[32m━━━━━━━━━━━━━━━━━━━━\u001b[0m\u001b[37m\u001b[0m \u001b[1m77s\u001b[0m 608ms/step - accuracy: 0.9871 - auc: 0.9994 - loss: 0.0651 - val_accuracy: 0.9760 - val_auc: 0.9955 - val_loss: 0.0856 - learning_rate: 1.0000e-05\n",
            "Epoch 14/20\n",
            "\u001b[1m125/125\u001b[0m \u001b[32m━━━━━━━━━━━━━━━━━━━━\u001b[0m\u001b[37m\u001b[0m \u001b[1m0s\u001b[0m 568ms/step - accuracy: 0.9865 - auc: 0.9992 - loss: 0.0634\n",
            "Epoch 14: val_auc improved from 0.99667 to 0.99952, saving model to best_resnet_model.h5\n"
          ]
        },
        {
          "output_type": "stream",
          "name": "stderr",
          "text": [
            "WARNING:absl:You are saving your model as an HDF5 file via `model.save()` or `keras.saving.save_model(model)`. This file format is considered legacy. We recommend using instead the native Keras format, e.g. `model.save('my_model.keras')` or `keras.saving.save_model(model, 'my_model.keras')`. \n"
          ]
        },
        {
          "output_type": "stream",
          "name": "stdout",
          "text": [
            "\b\b\b\b\b\b\b\b\b\b\b\b\b\b\b\b\b\b\b\b\b\b\b\b\b\b\b\b\b\b\b\b\b\b\b\b\b\b\b\b\b\b\b\b\b\b\b\b\b\b\b\b\b\b\b\b\b\b\b\b\b\b\b\b\b\b\b\b\b\b\b\b\b\b\b\b\b\b\b\b\b\b\b\b\b\b\b\b\b\b\r\u001b[1m125/125\u001b[0m \u001b[32m━━━━━━━━━━━━━━━━━━━━\u001b[0m\u001b[37m\u001b[0m \u001b[1m76s\u001b[0m 603ms/step - accuracy: 0.9865 - auc: 0.9992 - loss: 0.0634 - val_accuracy: 0.9860 - val_auc: 0.9995 - val_loss: 0.0614 - learning_rate: 1.0000e-05\n",
            "Epoch 15/20\n",
            "\u001b[1m125/125\u001b[0m \u001b[32m━━━━━━━━━━━━━━━━━━━━\u001b[0m\u001b[37m\u001b[0m \u001b[1m0s\u001b[0m 583ms/step - accuracy: 0.9919 - auc: 0.9994 - loss: 0.0541\n",
            "Epoch 15: val_auc improved from 0.99952 to 0.99987, saving model to best_resnet_model.h5\n"
          ]
        },
        {
          "output_type": "stream",
          "name": "stderr",
          "text": [
            "WARNING:absl:You are saving your model as an HDF5 file via `model.save()` or `keras.saving.save_model(model)`. This file format is considered legacy. We recommend using instead the native Keras format, e.g. `model.save('my_model.keras')` or `keras.saving.save_model(model, 'my_model.keras')`. \n"
          ]
        },
        {
          "output_type": "stream",
          "name": "stdout",
          "text": [
            "\b\b\b\b\b\b\b\b\b\b\b\b\b\b\b\b\b\b\b\b\b\b\b\b\b\b\b\b\b\b\b\b\b\b\b\b\b\b\b\b\b\b\b\b\b\b\b\b\b\b\b\b\b\b\b\b\b\b\b\b\b\b\b\b\b\b\b\b\b\b\b\b\b\b\b\b\b\b\b\b\b\b\b\b\b\b\b\b\b\b\r\u001b[1m125/125\u001b[0m \u001b[32m━━━━━━━━━━━━━━━━━━━━\u001b[0m\u001b[37m\u001b[0m \u001b[1m77s\u001b[0m 613ms/step - accuracy: 0.9919 - auc: 0.9994 - loss: 0.0541 - val_accuracy: 0.9920 - val_auc: 0.9999 - val_loss: 0.0439 - learning_rate: 1.0000e-05\n",
            "Epoch 16/20\n",
            "\u001b[1m125/125\u001b[0m \u001b[32m━━━━━━━━━━━━━━━━━━━━\u001b[0m\u001b[37m\u001b[0m \u001b[1m0s\u001b[0m 586ms/step - accuracy: 0.9944 - auc: 0.9998 - loss: 0.0477\n",
            "Epoch 16: val_auc improved from 0.99987 to 0.99993, saving model to best_resnet_model.h5\n"
          ]
        },
        {
          "output_type": "stream",
          "name": "stderr",
          "text": [
            "WARNING:absl:You are saving your model as an HDF5 file via `model.save()` or `keras.saving.save_model(model)`. This file format is considered legacy. We recommend using instead the native Keras format, e.g. `model.save('my_model.keras')` or `keras.saving.save_model(model, 'my_model.keras')`. \n"
          ]
        },
        {
          "output_type": "stream",
          "name": "stdout",
          "text": [
            "\b\b\b\b\b\b\b\b\b\b\b\b\b\b\b\b\b\b\b\b\b\b\b\b\b\b\b\b\b\b\b\b\b\b\b\b\b\b\b\b\b\b\b\b\b\b\b\b\b\b\b\b\b\b\b\b\b\b\b\b\b\b\b\b\b\b\b\b\b\b\b\b\b\b\b\b\b\b\b\b\b\b\b\b\b\b\b\b\b\b\r\u001b[1m125/125\u001b[0m \u001b[32m━━━━━━━━━━━━━━━━━━━━\u001b[0m\u001b[37m\u001b[0m \u001b[1m78s\u001b[0m 616ms/step - accuracy: 0.9944 - auc: 0.9998 - loss: 0.0477 - val_accuracy: 0.9920 - val_auc: 0.9999 - val_loss: 0.0436 - learning_rate: 1.0000e-05\n",
            "Epoch 17/20\n",
            "\u001b[1m125/125\u001b[0m \u001b[32m━━━━━━━━━━━━━━━━━━━━\u001b[0m\u001b[37m\u001b[0m \u001b[1m0s\u001b[0m 570ms/step - accuracy: 0.9973 - auc: 1.0000 - loss: 0.0391\n",
            "Epoch 17: val_auc improved from 0.99993 to 0.99995, saving model to best_resnet_model.h5\n"
          ]
        },
        {
          "output_type": "stream",
          "name": "stderr",
          "text": [
            "WARNING:absl:You are saving your model as an HDF5 file via `model.save()` or `keras.saving.save_model(model)`. This file format is considered legacy. We recommend using instead the native Keras format, e.g. `model.save('my_model.keras')` or `keras.saving.save_model(model, 'my_model.keras')`. \n"
          ]
        },
        {
          "output_type": "stream",
          "name": "stdout",
          "text": [
            "\b\b\b\b\b\b\b\b\b\b\b\b\b\b\b\b\b\b\b\b\b\b\b\b\b\b\b\b\b\b\b\b\b\b\b\b\b\b\b\b\b\b\b\b\b\b\b\b\b\b\b\b\b\b\b\b\b\b\b\b\b\b\b\b\b\b\b\b\b\b\b\b\b\b\b\b\b\b\b\b\b\b\b\b\b\b\b\b\b\b\r\u001b[1m125/125\u001b[0m \u001b[32m━━━━━━━━━━━━━━━━━━━━\u001b[0m\u001b[37m\u001b[0m \u001b[1m76s\u001b[0m 604ms/step - accuracy: 0.9973 - auc: 1.0000 - loss: 0.0392 - val_accuracy: 0.9960 - val_auc: 0.9999 - val_loss: 0.0395 - learning_rate: 1.0000e-05\n",
            "Epoch 18/20\n",
            "\u001b[1m125/125\u001b[0m \u001b[32m━━━━━━━━━━━━━━━━━━━━\u001b[0m\u001b[37m\u001b[0m \u001b[1m0s\u001b[0m 575ms/step - accuracy: 0.9984 - auc: 1.0000 - loss: 0.0354\n",
            "Epoch 18: val_auc did not improve from 0.99995\n",
            "\u001b[1m125/125\u001b[0m \u001b[32m━━━━━━━━━━━━━━━━━━━━\u001b[0m\u001b[37m\u001b[0m \u001b[1m75s\u001b[0m 596ms/step - accuracy: 0.9984 - auc: 1.0000 - loss: 0.0354 - val_accuracy: 0.9920 - val_auc: 0.9999 - val_loss: 0.0416 - learning_rate: 1.0000e-05\n",
            "Epoch 19/20\n",
            "\u001b[1m125/125\u001b[0m \u001b[32m━━━━━━━━━━━━━━━━━━━━\u001b[0m\u001b[37m\u001b[0m \u001b[1m0s\u001b[0m 582ms/step - accuracy: 0.9966 - auc: 1.0000 - loss: 0.0371\n",
            "Epoch 19: val_auc did not improve from 0.99995\n",
            "\u001b[1m125/125\u001b[0m \u001b[32m━━━━━━━━━━━━━━━━━━━━\u001b[0m\u001b[37m\u001b[0m \u001b[1m75s\u001b[0m 602ms/step - accuracy: 0.9966 - auc: 1.0000 - loss: 0.0371 - val_accuracy: 0.9960 - val_auc: 0.9999 - val_loss: 0.0440 - learning_rate: 1.0000e-05\n",
            "Epoch 20/20\n",
            "\u001b[1m125/125\u001b[0m \u001b[32m━━━━━━━━━━━━━━━━━━━━\u001b[0m\u001b[37m\u001b[0m \u001b[1m0s\u001b[0m 572ms/step - accuracy: 0.9999 - auc: 1.0000 - loss: 0.0329\n",
            "Epoch 20: ReduceLROnPlateau reducing learning rate to 9.999999747378752e-07.\n",
            "\n",
            "Epoch 20: val_auc did not improve from 0.99995\n",
            "\u001b[1m125/125\u001b[0m \u001b[32m━━━━━━━━━━━━━━━━━━━━\u001b[0m\u001b[37m\u001b[0m \u001b[1m74s\u001b[0m 593ms/step - accuracy: 0.9999 - auc: 1.0000 - loss: 0.0329 - val_accuracy: 0.9960 - val_auc: 0.9999 - val_loss: 0.0435 - learning_rate: 1.0000e-05\n",
            "Restoring model weights from the end of the best epoch: 17.\n"
          ]
        },
        {
          "output_type": "stream",
          "name": "stderr",
          "text": [
            "WARNING:absl:You are saving your model as an HDF5 file via `model.save()` or `keras.saving.save_model(model)`. This file format is considered legacy. We recommend using instead the native Keras format, e.g. `model.save('my_model.keras')` or `keras.saving.save_model(model, 'my_model.keras')`. \n"
          ]
        }
      ]
    },
    {
      "cell_type": "markdown",
      "source": [
        "# Bloque 4 : Evaluación_del_Modelo."
      ],
      "metadata": {
        "id": "k8g0Kg01Cm5K"
      }
    },
    {
      "cell_type": "markdown",
      "source": [
        "## 4.1 Evaluación del Modelo en el Conjunto de Prueba"
      ],
      "metadata": {
        "id": "_fimeL4lC52I"
      }
    },
    {
      "cell_type": "code",
      "source": [
        "# %% Evaluación del modelo\n",
        "def evaluate_model(model, test_gen):\n",
        "    # Reiniciar el generador de prueba para asegurar que empieza desde el principio\n",
        "    test_gen.reset()\n",
        "    # Evaluar el modelo en el conjunto de prueba\n",
        "    loss, accuracy, auc_score = model.evaluate(test_gen, verbose=0)\n",
        "\n",
        "    print(f\"\\nResultados en conjunto de prueba:\")\n",
        "    print(f\"Pérdida (Loss): {loss:.4f}\")\n",
        "    print(f\"Exactitud (Accuracy): {accuracy:.4f}\")\n",
        "    print(f\"AUC: {auc_score:.4f}\")\n",
        "\n",
        "    # Obtener las probabilidades predichas por el modelo para el conjunto de prueba\n",
        "    y_pred_probs = model.predict(test_gen)\n",
        "    # Convertir las probabilidades a predicciones de clase (0 o 1) usando un umbral de 0.5\n",
        "    y_pred = (y_pred_probs > 0.5).astype(int).flatten()\n",
        "    # Obtener las etiquetas verdaderas del generador de prueba\n",
        "    y_true = test_gen.classes\n",
        "\n",
        "    # Obtener los nombres originales de las clases usando el label_encoder ajustado previamente\n",
        "    class_names = list(label_encoder.inverse_transform([0, 1]))\n",
        "\n",
        "    # --- Matriz de Confusión ---\n",
        "    cm = confusion_matrix(y_true, y_pred)\n",
        "    plt.figure(figsize=(6, 6))\n",
        "    sns.heatmap(cm, annot=True, fmt='d', cmap='Blues',\n",
        "                xticklabels=class_names, yticklabels=class_names)\n",
        "    plt.title('Matriz de Confusión - ResNet50')\n",
        "    plt.ylabel('Etiqueta Verdadera')\n",
        "    plt.xlabel('Etiqueta Predicha')\n",
        "    plt.show()\n",
        "\n",
        "    # --- Reporte de Clasificación ---\n",
        "    print(\"\\nReporte de Clasificación:\")\n",
        "    print(classification_report(y_true, y_pred, target_names=class_names))\n",
        "\n",
        "    # --- Curva ROC ---\n",
        "    # Calcular la tasa de falsos positivos (fpr) y la tasa de verdaderos positivos (tpr)\n",
        "    fpr, tpr, _ = roc_curve(y_true, y_pred_probs) # Usar y_pred_probs para la curva ROC\n",
        "    # Calcular el Área Bajo la Curva ROC\n",
        "    roc_auc = auc(fpr, tpr)\n",
        "\n",
        "    plt.figure(figsize=(8, 6))\n",
        "    plt.plot(fpr, tpr, color='darkorange', lw=2,\n",
        "             label=f'Curva ROC (área = {roc_auc:.2f})')\n",
        "    plt.plot([0, 1], [0, 1], color='navy', lw=2, linestyle='--') # Línea de no discriminación\n",
        "    plt.xlim([0.0, 1.0])\n",
        "    plt.ylim([0.0, 1.05])\n",
        "    plt.xlabel('Tasa de Falsos Positivos (FPR)')\n",
        "    plt.ylabel('Tasa de Verdaderos Positivos (TPR)')\n",
        "    plt.title('Curva ROC - ResNet50')\n",
        "    plt.legend(loc=\"lower right\")\n",
        "    plt.grid(True)\n",
        "    plt.show()\n",
        "\n",
        "# Llamar a la función de evaluación con el modelo entrenado y el generador de prueba\n",
        "evaluate_model(model, test_gen)"
      ],
      "metadata": {
        "colab": {
          "base_uri": "https://localhost:8080/",
          "height": 1000
        },
        "id": "PY1z2fiMCuAr",
        "outputId": "5e2c1912-fa6a-4f00-ef57-4af55a0241fe"
      },
      "execution_count": null,
      "outputs": [
        {
          "output_type": "stream",
          "name": "stdout",
          "text": [
            "\n",
            "Resultados en conjunto de prueba:\n",
            "Pérdida (Loss): 0.0455\n",
            "Exactitud (Accuracy): 0.9940\n",
            "AUC: 0.9996\n",
            "\u001b[1m16/16\u001b[0m \u001b[32m━━━━━━━━━━━━━━━━━━━━\u001b[0m\u001b[37m\u001b[0m \u001b[1m10s\u001b[0m 438ms/step\n"
          ]
        },
        {
          "output_type": "display_data",
          "data": {
            "text/plain": [
              "<Figure size 600x600 with 2 Axes>"
            ],
            "image/png": "[encoded data removed]"
          },
          "metadata": {}
        },
        {
          "output_type": "stream",
          "name": "stdout",
          "text": [
            "\n",
            "Reporte de Clasificación:\n",
            "              precision    recall  f1-score   support\n",
            "\n",
            "     Healthy       0.99      0.99      0.99       200\n",
            "       Tumor       0.99      1.00      1.00       300\n",
            "\n",
            "    accuracy                           0.99       500\n",
            "   macro avg       0.99      0.99      0.99       500\n",
            "weighted avg       0.99      0.99      0.99       500\n",
            "\n"
          ]
        },
        {
          "output_type": "display_data",
          "data": {
            "text/plain": [
              "<Figure size 800x600 with 1 Axes>"
            ],
            "image/png": "[encoded data removed]"
          },
          "metadata": {}
        }
      ]
    },
    {
      "cell_type": "markdown",
      "source": [
        "## 4.2 Visualización del Historial de Entrenamiento"
      ],
      "metadata": {
        "id": "O2u0_SGVDJ7_"
      }
    },
    {
      "cell_type": "code",
      "source": [
        "# %% Visualización del historial de entrenamiento\n",
        "def plot_combined_history(initial_hist, fine_tune_hist):\n",
        "    # Extraer métricas de la fase inicial\n",
        "    acc = initial_hist.history['accuracy']\n",
        "    val_acc = initial_hist.history['val_accuracy']\n",
        "    loss = initial_hist.history['loss']\n",
        "    val_loss = initial_hist.history['val_loss']\n",
        "\n",
        "    # Añadir métricas de la fase de fine-tuning\n",
        "    acc += fine_tune_hist.history['accuracy']\n",
        "    val_acc += fine_tune_hist.history['val_accuracy']\n",
        "    loss += fine_tune_hist.history['loss']\n",
        "    val_loss += fine_tune_hist.history['val_loss']\n",
        "\n",
        "    plt.figure(figsize=(12, 6))\n",
        "\n",
        "    # Subgráfico para la Exactitud\n",
        "    plt.subplot(1, 2, 1)\n",
        "    plt.plot(acc, label='Exactitud de Entrenamiento')\n",
        "    plt.plot(val_acc, label='Exactitud de Validación')\n",
        "    # Línea vertical para marcar el inicio del fine-tuning\n",
        "    # Asumiendo que initial_epochs fue definido como en el script original\n",
        "    plt.plot([initial_epochs-1, initial_epochs-1],\n",
        "             plt.ylim(), label='Inicio Fine-Tuning', linestyle='--')\n",
        "    plt.title('Exactitud durante Entrenamiento')\n",
        "    plt.xlabel('Época')\n",
        "    plt.ylabel('Exactitud')\n",
        "    plt.legend()\n",
        "    plt.grid(True)\n",
        "\n",
        "    # Subgráfico para la Pérdida\n",
        "    plt.subplot(1, 2, 2)\n",
        "    plt.plot(loss, label='Pérdida de Entrenamiento')\n",
        "    plt.plot(val_loss, label='Pérdida de Validación')\n",
        "    # Línea vertical para marcar el inicio del fine-tuning\n",
        "    plt.plot([initial_epochs-1, initial_epochs-1],\n",
        "             plt.ylim(), label='Inicio Fine-Tuning', linestyle='--')\n",
        "    plt.title('Pérdida durante Entrenamiento')\n",
        "    plt.xlabel('Época')\n",
        "    plt.ylabel('Pérdida')\n",
        "    plt.legend()\n",
        "    plt.grid(True)\n",
        "\n",
        "    plt.tight_layout() # Ajustar el layout para evitar superposiciones\n",
        "    plt.show()\n",
        "\n",
        "# Llamar a la función para graficar el historial combinado\n",
        "plot_combined_history(history, history_fine)"
      ],
      "metadata": {
        "colab": {
          "base_uri": "https://localhost:8080/",
          "height": 484
        },
        "id": "1RHoWSq_DOQi",
        "outputId": "8eacbc1c-e0e3-4bb8-ed47-92cacd50d965"
      },
      "execution_count": null,
      "outputs": [
        {
          "output_type": "display_data",
          "data": {
            "text/plain": [
              "<Figure size 1200x600 with 2 Axes>"
            ],
            "image/png": "[encoded data removed]"
          },
          "metadata": {}
        }
      ]
    }
  ]
}